{
 "cells": [
  {
   "cell_type": "markdown",
   "metadata": {},
   "source": [
    "# `nba_api` demo\n",
    "\n",
    "Let's call `cumeplayerstats` endpoint and parse the results"
   ]
  },
  {
   "cell_type": "code",
   "execution_count": 2,
   "metadata": {},
   "outputs": [],
   "source": [
    "from nba_api.stats.endpoints import commonplayerinfo, cumestatsplayer\n",
    "\n",
    "player_info = commonplayerinfo.CommonPlayerInfo(player_id=2544, timeout=30)"
   ]
  },
  {
   "cell_type": "code",
   "execution_count": 5,
   "metadata": {},
   "outputs": [
    {
     "data": {
      "text/html": [
       "<div>\n",
       "<style scoped>\n",
       "    .dataframe tbody tr th:only-of-type {\n",
       "        vertical-align: middle;\n",
       "    }\n",
       "\n",
       "    .dataframe tbody tr th {\n",
       "        vertical-align: top;\n",
       "    }\n",
       "\n",
       "    .dataframe thead th {\n",
       "        text-align: right;\n",
       "    }\n",
       "</style>\n",
       "<table border=\"1\" class=\"dataframe\">\n",
       "  <thead>\n",
       "    <tr style=\"text-align: right;\">\n",
       "      <th></th>\n",
       "      <th>PERSON_ID</th>\n",
       "      <th>FIRST_NAME</th>\n",
       "      <th>LAST_NAME</th>\n",
       "      <th>DISPLAY_FIRST_LAST</th>\n",
       "      <th>DISPLAY_LAST_COMMA_FIRST</th>\n",
       "      <th>DISPLAY_FI_LAST</th>\n",
       "      <th>PLAYER_SLUG</th>\n",
       "      <th>BIRTHDATE</th>\n",
       "      <th>SCHOOL</th>\n",
       "      <th>COUNTRY</th>\n",
       "      <th>...</th>\n",
       "      <th>PLAYERCODE</th>\n",
       "      <th>FROM_YEAR</th>\n",
       "      <th>TO_YEAR</th>\n",
       "      <th>DLEAGUE_FLAG</th>\n",
       "      <th>NBA_FLAG</th>\n",
       "      <th>GAMES_PLAYED_FLAG</th>\n",
       "      <th>DRAFT_YEAR</th>\n",
       "      <th>DRAFT_ROUND</th>\n",
       "      <th>DRAFT_NUMBER</th>\n",
       "      <th>GREATEST_75_FLAG</th>\n",
       "    </tr>\n",
       "  </thead>\n",
       "  <tbody>\n",
       "    <tr>\n",
       "      <th>0</th>\n",
       "      <td>2544</td>\n",
       "      <td>LeBron</td>\n",
       "      <td>James</td>\n",
       "      <td>LeBron James</td>\n",
       "      <td>James, LeBron</td>\n",
       "      <td>L. James</td>\n",
       "      <td>lebron-james</td>\n",
       "      <td>1984-12-30T00:00:00</td>\n",
       "      <td>St. Vincent-St. Mary HS (OH)</td>\n",
       "      <td>USA</td>\n",
       "      <td>...</td>\n",
       "      <td>lebron_james</td>\n",
       "      <td>2003</td>\n",
       "      <td>2022</td>\n",
       "      <td>N</td>\n",
       "      <td>Y</td>\n",
       "      <td>Y</td>\n",
       "      <td>2003</td>\n",
       "      <td>1</td>\n",
       "      <td>1</td>\n",
       "      <td>Y</td>\n",
       "    </tr>\n",
       "  </tbody>\n",
       "</table>\n",
       "<p>1 rows × 33 columns</p>\n",
       "</div>"
      ],
      "text/plain": [
       "   PERSON_ID FIRST_NAME LAST_NAME DISPLAY_FIRST_LAST DISPLAY_LAST_COMMA_FIRST  \\\n",
       "0       2544     LeBron     James       LeBron James            James, LeBron   \n",
       "\n",
       "  DISPLAY_FI_LAST   PLAYER_SLUG            BIRTHDATE  \\\n",
       "0        L. James  lebron-james  1984-12-30T00:00:00   \n",
       "\n",
       "                         SCHOOL COUNTRY  ...    PLAYERCODE FROM_YEAR TO_YEAR  \\\n",
       "0  St. Vincent-St. Mary HS (OH)     USA  ...  lebron_james      2003    2022   \n",
       "\n",
       "   DLEAGUE_FLAG NBA_FLAG GAMES_PLAYED_FLAG DRAFT_YEAR DRAFT_ROUND  \\\n",
       "0             N        Y                 Y       2003           1   \n",
       "\n",
       "   DRAFT_NUMBER GREATEST_75_FLAG  \n",
       "0             1                Y  \n",
       "\n",
       "[1 rows x 33 columns]"
      ]
     },
     "execution_count": 5,
     "metadata": {},
     "output_type": "execute_result"
    }
   ],
   "source": [
    "import pandas as pd\n",
    "\n",
    "df_info = player_info.common_player_info.get_data_frame()\n",
    "df_info"
   ]
  },
  {
   "cell_type": "code",
   "execution_count": 6,
   "metadata": {},
   "outputs": [
    {
     "data": {
      "text/plain": [
       "Index(['PERSON_ID', 'FIRST_NAME', 'LAST_NAME', 'DISPLAY_FIRST_LAST',\n",
       "       'DISPLAY_LAST_COMMA_FIRST', 'DISPLAY_FI_LAST', 'PLAYER_SLUG',\n",
       "       'BIRTHDATE', 'SCHOOL', 'COUNTRY', 'LAST_AFFILIATION', 'HEIGHT',\n",
       "       'WEIGHT', 'SEASON_EXP', 'JERSEY', 'POSITION', 'ROSTERSTATUS',\n",
       "       'GAMES_PLAYED_CURRENT_SEASON_FLAG', 'TEAM_ID', 'TEAM_NAME',\n",
       "       'TEAM_ABBREVIATION', 'TEAM_CODE', 'TEAM_CITY', 'PLAYERCODE',\n",
       "       'FROM_YEAR', 'TO_YEAR', 'DLEAGUE_FLAG', 'NBA_FLAG', 'GAMES_PLAYED_FLAG',\n",
       "       'DRAFT_YEAR', 'DRAFT_ROUND', 'DRAFT_NUMBER', 'GREATEST_75_FLAG'],\n",
       "      dtype='object')"
      ]
     },
     "execution_count": 6,
     "metadata": {},
     "output_type": "execute_result"
    }
   ],
   "source": [
    "df_info.columns"
   ]
  },
  {
   "cell_type": "code",
   "execution_count": 7,
   "metadata": {},
   "outputs": [
    {
     "data": {
      "text/html": [
       "<div>\n",
       "<style scoped>\n",
       "    .dataframe tbody tr th:only-of-type {\n",
       "        vertical-align: middle;\n",
       "    }\n",
       "\n",
       "    .dataframe tbody tr th {\n",
       "        vertical-align: top;\n",
       "    }\n",
       "\n",
       "    .dataframe thead th {\n",
       "        text-align: right;\n",
       "    }\n",
       "</style>\n",
       "<table border=\"1\" class=\"dataframe\">\n",
       "  <thead>\n",
       "    <tr style=\"text-align: right;\">\n",
       "      <th></th>\n",
       "      <th>SEASON_ID</th>\n",
       "    </tr>\n",
       "  </thead>\n",
       "  <tbody>\n",
       "    <tr>\n",
       "      <th>0</th>\n",
       "      <td>12003</td>\n",
       "    </tr>\n",
       "    <tr>\n",
       "      <th>1</th>\n",
       "      <td>22003</td>\n",
       "    </tr>\n",
       "    <tr>\n",
       "      <th>2</th>\n",
       "      <td>12004</td>\n",
       "    </tr>\n",
       "    <tr>\n",
       "      <th>3</th>\n",
       "      <td>22004</td>\n",
       "    </tr>\n",
       "    <tr>\n",
       "      <th>4</th>\n",
       "      <td>32004</td>\n",
       "    </tr>\n",
       "    <tr>\n",
       "      <th>...</th>\n",
       "      <td>...</td>\n",
       "    </tr>\n",
       "    <tr>\n",
       "      <th>67</th>\n",
       "      <td>42020</td>\n",
       "    </tr>\n",
       "    <tr>\n",
       "      <th>68</th>\n",
       "      <td>52020</td>\n",
       "    </tr>\n",
       "    <tr>\n",
       "      <th>69</th>\n",
       "      <td>12021</td>\n",
       "    </tr>\n",
       "    <tr>\n",
       "      <th>70</th>\n",
       "      <td>22021</td>\n",
       "    </tr>\n",
       "    <tr>\n",
       "      <th>71</th>\n",
       "      <td>32021</td>\n",
       "    </tr>\n",
       "  </tbody>\n",
       "</table>\n",
       "<p>72 rows × 1 columns</p>\n",
       "</div>"
      ],
      "text/plain": [
       "   SEASON_ID\n",
       "0      12003\n",
       "1      22003\n",
       "2      12004\n",
       "3      22004\n",
       "4      32004\n",
       "..       ...\n",
       "67     42020\n",
       "68     52020\n",
       "69     12021\n",
       "70     22021\n",
       "71     32021\n",
       "\n",
       "[72 rows x 1 columns]"
      ]
     },
     "execution_count": 7,
     "metadata": {},
     "output_type": "execute_result"
    }
   ],
   "source": [
    "df_seasons = player_info.available_seasons.get_data_frame()\n",
    "df_seasons"
   ]
  },
  {
   "cell_type": "code",
   "execution_count": 9,
   "metadata": {},
   "outputs": [
    {
     "name": "stdout",
     "output_type": "stream",
     "text": [
      "__init__() missing 1 required positional argument: 'game_ids'\n",
      "Need list of game_ids\n"
     ]
    }
   ],
   "source": [
    "# Need `game_ids` for our cumulative search:\n",
    "try:\n",
    "    season_avg = cumestatsplayer.CumeStatsPlayer(player_id=2544)\n",
    "except TypeError as e:\n",
    "    print(e)\n",
    "    print(\"Need list of game_ids\")"
   ]
  },
  {
   "cell_type": "markdown",
   "metadata": {},
   "source": [
    "[According to docs](https://github.com/swar/nba_api/blob/master/docs/nba_api/stats/endpoints/cumestatsplayer.md), also need:\n",
    "\n",
    "* league_id\n",
    "* season\n",
    "* season_type_all_star: `^(Regular Season)|(Pre Season)|(Playoffs)|(All Star)$`\n",
    "\n",
    "Example valid url: \n",
    "\n",
    "> `https://stats.nba.com/stats/cumestatsplayer?GameIDs=0021700807&LeagueID=00&PlayerID=2544&Season=2019-20&SeasonType=Regular+Season`"
   ]
  },
  {
   "cell_type": "markdown",
   "metadata": {},
   "source": [
    "So league_id, season, season_type_all_star we can hardcode:\n",
    "\n",
    "* league_id = `0`\n",
    "* season = `2021-2022`\n",
    "* season_type_all_star = `\"Regular Season\"`\n",
    "\n",
    "But we'll need a way to dynamically fetch game_ids, given the player_id and season"
   ]
  },
  {
   "cell_type": "code",
   "execution_count": 43,
   "metadata": {},
   "outputs": [
    {
     "data": {
      "text/plain": [
       "[  SEASON_ID  Player_ID     Game_ID     GAME_DATE      MATCHUP WL  MIN  FGM  \\\n",
       " 0     42020       2544  0042000156  JUN 03, 2021  LAL vs. PHX  L   41   11   \n",
       " 1     42020       2544  0042000155  JUN 01, 2021    LAL @ PHX  L   32    9   \n",
       " 2     42020       2544  0042000154  MAY 30, 2021  LAL vs. PHX  L   38   10   \n",
       " 3     42020       2544  0042000153  MAY 27, 2021  LAL vs. PHX  W   38    9   \n",
       " 4     42020       2544  0042000152  MAY 25, 2021    LAL @ PHX  W   39    9   \n",
       " 5     42020       2544  0042000151  MAY 23, 2021    LAL @ PHX  L   36    6   \n",
       " \n",
       "    FGA  FG_PCT  ...  DREB  REB  AST  STL  BLK  TOV  PF  PTS  PLUS_MINUS  \\\n",
       " 0   26   0.423  ...     7    9    7    2    2    3   1   29          -3   \n",
       " 1   19   0.474  ...     4    5    7    0    0    3   1   24         -24   \n",
       " 2   21   0.476  ...    10   12    6    1    0    6   1   25           6   \n",
       " 3   19   0.474  ...     5    6    9    1    0    7   0   21          15   \n",
       " 4   16   0.563  ...     4    4    9    2    0    1   3   23          14   \n",
       " 5   13   0.462  ...     6    7   10    3    0    5   1   18           2   \n",
       " \n",
       "    VIDEO_AVAILABLE  \n",
       " 0                1  \n",
       " 1                1  \n",
       " 2                1  \n",
       " 3                1  \n",
       " 4                1  \n",
       " 5                1  \n",
       " \n",
       " [6 rows x 27 columns]]"
      ]
     },
     "execution_count": 43,
     "metadata": {},
     "output_type": "execute_result"
    }
   ],
   "source": [
    "from nba_api.stats.endpoints import playergamelog\n",
    "\n",
    "gamelogs = playergamelog.PlayerGameLog(\n",
    "    player_id=2544,\n",
    "    season=\"2020-21\",\n",
    "    season_type_all_star=\"Playoffs\",\n",
    ")\n",
    "gamelogs.get_data_frames()\n"
   ]
  },
  {
   "cell_type": "code",
   "execution_count": 29,
   "metadata": {},
   "outputs": [
    {
     "data": {
      "text/plain": [
       "0     0022101160\n",
       "1     0022101119\n",
       "2     0022101072\n",
       "3     0022101061\n",
       "4     0022101051\n",
       "5     0022101039\n",
       "6     0022101028\n",
       "7     0022101019\n",
       "8     0022101004\n",
       "9     0022100985\n",
       "10    0022100959\n",
       "11    0022100945\n",
       "12    0022100931\n",
       "13    0022100919\n",
       "14    0022100904\n",
       "15    0022100884\n",
       "16    0022100854\n",
       "17    0022100829\n",
       "18    0022100822\n",
       "19    0022100799\n",
       "20    0022100718\n",
       "21    0022100700\n",
       "22    0022100685\n",
       "23    0022100680\n",
       "24    0022100665\n",
       "25    0022100649\n",
       "26    0022100626\n",
       "27    0022100606\n",
       "28    0022100589\n",
       "29    0022100566\n",
       "30    0022100551\n",
       "31    0022100538\n",
       "32    0022100520\n",
       "33    0022100511\n",
       "34    0022100491\n",
       "35    0022100487\n",
       "36    0022100469\n",
       "37    0022100448\n",
       "38    0022100436\n",
       "39    0022100420\n",
       "40    0022100403\n",
       "41    0022100389\n",
       "42    0022100380\n",
       "43    0022100365\n",
       "44    0022100341\n",
       "45    0022100304\n",
       "46    0022100291\n",
       "47    0022100268\n",
       "48    0022100249\n",
       "49    0022100232\n",
       "50    0022100107\n",
       "51    0022100093\n",
       "52    0022100077\n",
       "53    0022100040\n",
       "54    0022100025\n",
       "55    0022100002\n",
       "Name: Game_ID, dtype: object"
      ]
     },
     "execution_count": 29,
     "metadata": {},
     "output_type": "execute_result"
    }
   ],
   "source": [
    "df_game_ids = gamelogs.get_data_frames()[0]['Game_ID']\n",
    "df_game_ids"
   ]
  },
  {
   "cell_type": "code",
   "execution_count": 13,
   "metadata": {},
   "outputs": [
    {
     "data": {
      "text/plain": [
       "dict_keys(['resource', 'parameters', 'resultSets'])"
      ]
     },
     "execution_count": 13,
     "metadata": {},
     "output_type": "execute_result"
    }
   ],
   "source": [
    "# in json format\n",
    "import json\n",
    "gamelogs_json = json.loads(gamelogs.get_json())\n",
    "gamelogs_json.keys()"
   ]
  },
  {
   "cell_type": "code",
   "execution_count": 26,
   "metadata": {},
   "outputs": [
    {
     "data": {
      "text/plain": [
       "['SEASON_ID',\n",
       " 'Player_ID',\n",
       " 'Game_ID',\n",
       " 'GAME_DATE',\n",
       " 'MATCHUP',\n",
       " 'WL',\n",
       " 'MIN',\n",
       " 'FGM',\n",
       " 'FGA',\n",
       " 'FG_PCT',\n",
       " 'FG3M',\n",
       " 'FG3A',\n",
       " 'FG3_PCT',\n",
       " 'FTM',\n",
       " 'FTA',\n",
       " 'FT_PCT',\n",
       " 'OREB',\n",
       " 'DREB',\n",
       " 'REB',\n",
       " 'AST',\n",
       " 'STL',\n",
       " 'BLK',\n",
       " 'TOV',\n",
       " 'PF',\n",
       " 'PTS',\n",
       " 'PLUS_MINUS',\n",
       " 'VIDEO_AVAILABLE']"
      ]
     },
     "execution_count": 26,
     "metadata": {},
     "output_type": "execute_result"
    }
   ],
   "source": [
    "gamelogs_json['resultSets'][0]['headers']"
   ]
  },
  {
   "cell_type": "code",
   "execution_count": 15,
   "metadata": {},
   "outputs": [
    {
     "data": {
      "text/plain": [
       "dict_keys(['PlayerGameLog'])"
      ]
     },
     "execution_count": 15,
     "metadata": {},
     "output_type": "execute_result"
    }
   ],
   "source": [
    "normal = json.loads(gamelogs.get_normalized_json())\n",
    "normal.keys()"
   ]
  },
  {
   "cell_type": "code",
   "execution_count": 18,
   "metadata": {},
   "outputs": [
    {
     "data": {
      "text/plain": [
       "{'SEASON_ID': '22021',\n",
       " 'Player_ID': 2544,\n",
       " 'Game_ID': '0022101160',\n",
       " 'GAME_DATE': 'APR 01, 2022',\n",
       " 'MATCHUP': 'LAL vs. NOP',\n",
       " 'WL': 'L',\n",
       " 'MIN': 40,\n",
       " 'FGM': 13,\n",
       " 'FGA': 23,\n",
       " 'FG_PCT': 0.565,\n",
       " 'FG3M': 3,\n",
       " 'FG3A': 8,\n",
       " 'FG3_PCT': 0.375,\n",
       " 'FTM': 9,\n",
       " 'FTA': 12,\n",
       " 'FT_PCT': 0.75,\n",
       " 'OREB': 0,\n",
       " 'DREB': 8,\n",
       " 'REB': 8,\n",
       " 'AST': 4,\n",
       " 'STL': 1,\n",
       " 'BLK': 0,\n",
       " 'TOV': 6,\n",
       " 'PF': 3,\n",
       " 'PTS': 38,\n",
       " 'PLUS_MINUS': -2,\n",
       " 'VIDEO_AVAILABLE': 1}"
      ]
     },
     "execution_count": 18,
     "metadata": {},
     "output_type": "execute_result"
    }
   ],
   "source": [
    "normal['PlayerGameLog'][0]"
   ]
  },
  {
   "cell_type": "code",
   "execution_count": 34,
   "metadata": {},
   "outputs": [
    {
     "data": {
      "text/plain": [
       "['0022101160',\n",
       " '0022101119',\n",
       " '0022101072',\n",
       " '0022101061',\n",
       " '0022101051',\n",
       " '0022101039',\n",
       " '0022101028',\n",
       " '0022101019',\n",
       " '0022101004',\n",
       " '0022100985',\n",
       " '0022100959',\n",
       " '0022100945',\n",
       " '0022100931',\n",
       " '0022100919',\n",
       " '0022100904',\n",
       " '0022100884',\n",
       " '0022100854',\n",
       " '0022100829',\n",
       " '0022100822',\n",
       " '0022100799',\n",
       " '0022100718',\n",
       " '0022100700',\n",
       " '0022100685',\n",
       " '0022100680',\n",
       " '0022100665',\n",
       " '0022100649',\n",
       " '0022100626',\n",
       " '0022100606',\n",
       " '0022100589',\n",
       " '0022100566',\n",
       " '0022100551',\n",
       " '0022100538',\n",
       " '0022100520',\n",
       " '0022100511',\n",
       " '0022100491',\n",
       " '0022100487',\n",
       " '0022100469',\n",
       " '0022100448',\n",
       " '0022100436',\n",
       " '0022100420',\n",
       " '0022100403',\n",
       " '0022100389',\n",
       " '0022100380',\n",
       " '0022100365',\n",
       " '0022100341',\n",
       " '0022100304',\n",
       " '0022100291',\n",
       " '0022100268',\n",
       " '0022100249',\n",
       " '0022100232',\n",
       " '0022100107',\n",
       " '0022100093',\n",
       " '0022100077',\n",
       " '0022100040',\n",
       " '0022100025',\n",
       " '0022100002']"
      ]
     },
     "execution_count": 34,
     "metadata": {},
     "output_type": "execute_result"
    }
   ],
   "source": [
    "game_ids_list = [normal['PlayerGameLog'][i]['Game_ID'] for i in range(len(normal['PlayerGameLog']))]\n",
    "game_ids_list"
   ]
  },
  {
   "cell_type": "markdown",
   "metadata": {},
   "source": [
    "Seems easier to just get it from a dataframe and slice it by `[\"Game_ID\"]`. But `json` avoids loading `pandas`. Using `get_normalized_json` flattens the response, so we can separate the IDs by\n",
    "\n",
    "```py\n",
    "normal = json.loads(response.get_normalized_json())\n",
    "game_ids_list = [normal['PlayerGameLog'][i]['Game_ID'] for i in range(len(normal['PlayerGameLog']))]\n",
    "```\n",
    "\n",
    "In terms of finding player_id, we can use the static library:"
   ]
  },
  {
   "cell_type": "code",
   "execution_count": 35,
   "metadata": {},
   "outputs": [],
   "source": [
    "from nba_api.stats.static import players\n",
    "\n",
    "# Find players by full name.\n",
    "players.find_players_by_full_name('james')\n",
    "\n",
    "# Find players by first name.\n",
    "players.find_players_by_first_name('lebron')\n",
    "\n",
    "# Find players by last name.\n",
    "players.find_players_by_last_name('^(james|love)$')\n",
    "\n",
    "# Get all players.\n",
    "all = players.get_players()\n",
    "\n",
    "active = players.get_active_players()\n",
    "inactive = players.get_inactive_players()"
   ]
  },
  {
   "cell_type": "code",
   "execution_count": 36,
   "metadata": {},
   "outputs": [
    {
     "data": {
      "text/plain": [
       "{'id': 1630173,\n",
       " 'full_name': 'Precious Achiuwa',\n",
       " 'first_name': 'Precious',\n",
       " 'last_name': 'Achiuwa',\n",
       " 'is_active': True}"
      ]
     },
     "execution_count": 36,
     "metadata": {},
     "output_type": "execute_result"
    }
   ],
   "source": [
    "active[0]"
   ]
  },
  {
   "cell_type": "code",
   "execution_count": 37,
   "metadata": {},
   "outputs": [
    {
     "data": {
      "text/plain": [
       "[{'id': 1627832,\n",
       "  'full_name': 'Fred VanVleet',\n",
       "  'first_name': 'Fred',\n",
       "  'last_name': 'VanVleet',\n",
       "  'is_active': True}]"
      ]
     },
     "execution_count": 37,
     "metadata": {},
     "output_type": "execute_result"
    }
   ],
   "source": [
    "fred = players.find_players_by_full_name('vanvleet')\n",
    "fred"
   ]
  },
  {
   "cell_type": "code",
   "execution_count": 38,
   "metadata": {},
   "outputs": [
    {
     "data": {
      "text/plain": [
       "[{'id': 202341,\n",
       "  'full_name': 'James Anderson',\n",
       "  'first_name': 'James',\n",
       "  'last_name': 'Anderson',\n",
       "  'is_active': False},\n",
       " {'id': 200788,\n",
       "  'full_name': 'James Augustine',\n",
       "  'first_name': 'James',\n",
       "  'last_name': 'Augustine',\n",
       "  'is_active': False},\n",
       " {'id': 76085,\n",
       "  'full_name': 'James Bailey',\n",
       "  'first_name': 'James',\n",
       "  'last_name': 'Bailey',\n",
       "  'is_active': False},\n",
       " {'id': 1806,\n",
       "  'full_name': 'James Blackwell',\n",
       "  'first_name': 'James',\n",
       "  'last_name': 'Blackwell',\n",
       "  'is_active': False},\n",
       " {'id': 1630547,\n",
       "  'full_name': 'James Bouknight',\n",
       "  'first_name': 'James',\n",
       "  'last_name': 'Bouknight',\n",
       "  'is_active': True},\n",
       " {'id': 1530,\n",
       "  'full_name': 'James Collins',\n",
       "  'first_name': 'James',\n",
       "  'last_name': 'Collins',\n",
       "  'is_active': False},\n",
       " {'id': 1526,\n",
       "  'full_name': 'James Cotton',\n",
       "  'first_name': 'James',\n",
       "  'last_name': 'Cotton',\n",
       "  'is_active': False},\n",
       " {'id': 201191,\n",
       "  'full_name': 'JamesOn Curry',\n",
       "  'first_name': 'JamesOn',\n",
       "  'last_name': 'Curry',\n",
       "  'is_active': False},\n",
       " {'id': 76524,\n",
       "  'full_name': 'James Davis',\n",
       "  'first_name': 'James',\n",
       "  'last_name': 'Davis',\n",
       "  'is_active': False},\n",
       " {'id': 76583,\n",
       "  'full_name': 'James Donaldson',\n",
       "  'first_name': 'James',\n",
       "  'last_name': 'Donaldson',\n",
       "  'is_active': False},\n",
       " {'id': 229,\n",
       "  'full_name': 'James Edwards',\n",
       "  'first_name': 'James',\n",
       "  'last_name': 'Edwards',\n",
       "  'is_active': False},\n",
       " {'id': 203516,\n",
       "  'full_name': 'James Ennis III',\n",
       "  'first_name': 'James',\n",
       "  'last_name': 'Ennis III',\n",
       "  'is_active': False},\n",
       " {'id': 201935,\n",
       "  'full_name': 'James Harden',\n",
       "  'first_name': 'James',\n",
       "  'last_name': 'Harden',\n",
       "  'is_active': True},\n",
       " {'id': 76948,\n",
       "  'full_name': 'James Hardy',\n",
       "  'first_name': 'James',\n",
       "  'last_name': 'Hardy',\n",
       "  'is_active': False},\n",
       " {'id': 77115,\n",
       "  'full_name': 'Aaron James',\n",
       "  'first_name': 'Aaron',\n",
       "  'last_name': 'James',\n",
       "  'is_active': False},\n",
       " {'id': 203108,\n",
       "  'full_name': 'Bernard James',\n",
       "  'first_name': 'Bernard',\n",
       "  'last_name': 'James',\n",
       "  'is_active': False},\n",
       " {'id': 202345,\n",
       "  'full_name': 'Damion James',\n",
       "  'first_name': 'Damion',\n",
       "  'last_name': 'James',\n",
       "  'is_active': False},\n",
       " {'id': 77116,\n",
       "  'full_name': 'Gene James',\n",
       "  'first_name': 'Gene',\n",
       "  'last_name': 'James',\n",
       "  'is_active': False},\n",
       " {'id': 1080,\n",
       "  'full_name': 'Henry James',\n",
       "  'first_name': 'Henry',\n",
       "  'last_name': 'James',\n",
       "  'is_active': False},\n",
       " {'id': 1744,\n",
       "  'full_name': 'Jerome James',\n",
       "  'first_name': 'Jerome',\n",
       "  'last_name': 'James',\n",
       "  'is_active': False},\n",
       " {'id': 1629713,\n",
       "  'full_name': 'Justin James',\n",
       "  'first_name': 'Justin',\n",
       "  'last_name': 'James',\n",
       "  'is_active': False},\n",
       " {'id': 2544,\n",
       "  'full_name': 'LeBron James',\n",
       "  'first_name': 'LeBron',\n",
       "  'last_name': 'James',\n",
       "  'is_active': True},\n",
       " {'id': 2229,\n",
       "  'full_name': 'Mike James',\n",
       "  'first_name': 'Mike',\n",
       "  'last_name': 'James',\n",
       "  'is_active': False},\n",
       " {'id': 1628455,\n",
       "  'full_name': 'Mike James',\n",
       "  'first_name': 'Mike',\n",
       "  'last_name': 'James',\n",
       "  'is_active': False},\n",
       " {'id': 1906,\n",
       "  'full_name': 'Tim James',\n",
       "  'first_name': 'Tim',\n",
       "  'last_name': 'James',\n",
       "  'is_active': False},\n",
       " {'id': 201949,\n",
       "  'full_name': 'James Johnson',\n",
       "  'first_name': 'James',\n",
       "  'last_name': 'Johnson',\n",
       "  'is_active': True},\n",
       " {'id': 2592,\n",
       "  'full_name': 'James Jones',\n",
       "  'first_name': 'James',\n",
       "  'last_name': 'Jones',\n",
       "  'is_active': False},\n",
       " {'id': 2591,\n",
       "  'full_name': 'James Lang',\n",
       "  'first_name': 'James',\n",
       "  'last_name': 'Lang',\n",
       "  'is_active': False},\n",
       " {'id': 203949,\n",
       "  'full_name': 'James Michael McAdoo',\n",
       "  'first_name': 'James Michael',\n",
       "  'last_name': 'McAdoo',\n",
       "  'is_active': False},\n",
       " {'id': 203263,\n",
       "  'full_name': 'James Nunnally',\n",
       "  'first_name': 'James',\n",
       "  'last_name': 'Nunnally',\n",
       "  'is_active': False},\n",
       " {'id': 77783,\n",
       "  'full_name': 'James Owens',\n",
       "  'first_name': 'James',\n",
       "  'last_name': 'Owens',\n",
       "  'is_active': False},\n",
       " {'id': 1899,\n",
       "  'full_name': 'James Posey',\n",
       "  'first_name': 'James',\n",
       "  'last_name': 'Posey',\n",
       "  'is_active': False},\n",
       " {'id': 77920,\n",
       "  'full_name': 'Jamesearl Ray',\n",
       "  'first_name': 'Jamesearl',\n",
       "  'last_name': 'Ray',\n",
       "  'is_active': False},\n",
       " {'id': 381,\n",
       "  'full_name': 'James Robinson',\n",
       "  'first_name': 'James',\n",
       "  'last_name': 'Robinson',\n",
       "  'is_active': False},\n",
       " {'id': 1109,\n",
       "  'full_name': 'James Scott',\n",
       "  'first_name': 'James',\n",
       "  'last_name': 'Scott',\n",
       "  'is_active': False},\n",
       " {'id': 78150,\n",
       "  'full_name': 'James Silas',\n",
       "  'first_name': 'James',\n",
       "  'last_name': 'Silas',\n",
       "  'is_active': False},\n",
       " {'id': 101189,\n",
       "  'full_name': 'James Singleton',\n",
       "  'first_name': 'James',\n",
       "  'last_name': 'Singleton',\n",
       "  'is_active': False},\n",
       " {'id': 203480,\n",
       "  'full_name': 'James Southerland',\n",
       "  'first_name': 'James',\n",
       "  'last_name': 'Southerland',\n",
       "  'is_active': False},\n",
       " {'id': 2839,\n",
       "  'full_name': 'James Thomas',\n",
       "  'first_name': 'James',\n",
       "  'last_name': 'Thomas',\n",
       "  'is_active': False},\n",
       " {'id': 1627821,\n",
       "  'full_name': 'James Webb III',\n",
       "  'first_name': 'James',\n",
       "  'last_name': 'Webb III',\n",
       "  'is_active': False},\n",
       " {'id': 200778,\n",
       "  'full_name': 'James White',\n",
       "  'first_name': 'James',\n",
       "  'last_name': 'White',\n",
       "  'is_active': False},\n",
       " {'id': 78533,\n",
       "  'full_name': 'James Wilkes',\n",
       "  'first_name': 'James',\n",
       "  'last_name': 'Wilkes',\n",
       "  'is_active': False},\n",
       " {'id': 1630164,\n",
       "  'full_name': 'James Wiseman',\n",
       "  'first_name': 'James',\n",
       "  'last_name': 'Wiseman',\n",
       "  'is_active': True},\n",
       " {'id': 1460,\n",
       "  'full_name': 'James Worthy',\n",
       "  'first_name': 'James',\n",
       "  'last_name': 'Worthy',\n",
       "  'is_active': False},\n",
       " {'id': 203923,\n",
       "  'full_name': 'James Young',\n",
       "  'first_name': 'James',\n",
       "  'last_name': 'Young',\n",
       "  'is_active': False}]"
      ]
     },
     "execution_count": 38,
     "metadata": {},
     "output_type": "execute_result"
    }
   ],
   "source": [
    "james = [players.find_players_by_full_name('james')\n",
    "james"
   ]
  },
  {
   "cell_type": "code",
   "execution_count": 44,
   "metadata": {},
   "outputs": [
    {
     "name": "stdout",
     "output_type": "stream",
     "text": [
      "1\n",
      "2\n",
      "3\n"
     ]
    }
   ],
   "source": [
    "def get_params(*params):\n",
    "    for param in params:\n",
    "        print(param)\n",
    "\n",
    "get_params(1, 2, \"3\")"
   ]
  },
  {
   "cell_type": "code",
   "execution_count": 39,
   "metadata": {},
   "outputs": [
    {
     "data": {
      "text/plain": [
       "[{'id': 1630547,\n",
       "  'full_name': 'James Bouknight',\n",
       "  'first_name': 'James',\n",
       "  'last_name': 'Bouknight',\n",
       "  'is_active': True},\n",
       " {'id': 201935,\n",
       "  'full_name': 'James Harden',\n",
       "  'first_name': 'James',\n",
       "  'last_name': 'Harden',\n",
       "  'is_active': True},\n",
       " {'id': 2544,\n",
       "  'full_name': 'LeBron James',\n",
       "  'first_name': 'LeBron',\n",
       "  'last_name': 'James',\n",
       "  'is_active': True},\n",
       " {'id': 201949,\n",
       "  'full_name': 'James Johnson',\n",
       "  'first_name': 'James',\n",
       "  'last_name': 'Johnson',\n",
       "  'is_active': True},\n",
       " {'id': 1630164,\n",
       "  'full_name': 'James Wiseman',\n",
       "  'first_name': 'James',\n",
       "  'last_name': 'Wiseman',\n",
       "  'is_active': True}]"
      ]
     },
     "execution_count": 39,
     "metadata": {},
     "output_type": "execute_result"
    }
   ],
   "source": [
    "james_active = [player for player in james if player['is_active']]\n",
    "james_active"
   ]
  },
  {
   "cell_type": "code",
   "execution_count": 47,
   "metadata": {},
   "outputs": [],
   "source": [
    "def get_game_ids(*gamelogs: json) -> list:\n",
    "    game_ids = []\n",
    "    for season_types in gamelogs:\n",
    "        log_json = json.loads(season_types)\n",
    "        game_id_type = [log_json['PlayerGameLog'][i]['Game_ID'] \\\n",
    "                    for i in range(len(log_json['PlayerGameLog']))]\n",
    "        game_ids.append(game_id_type)\n",
    "\n",
    "    return game_ids\n",
    "        "
   ]
  },
  {
   "cell_type": "code",
   "execution_count": 52,
   "metadata": {},
   "outputs": [],
   "source": [
    "# get collection of game_id for each of the jameses\n",
    "\n",
    "import time\n",
    "\n",
    "james_active_ids = [player['id'] for player in james_active]\n",
    "\n",
    "james_game_ids = {}\n",
    "for player_id in james_active_ids:\n",
    "    reg = playergamelog.PlayerGameLog(\n",
    "        player_id=player_id,\n",
    "        season=\"2021-22\",\n",
    "        season_type_all_star=\"Regular Season\",\n",
    "    ).get_normalized_json()\n",
    "    post = playergamelog.PlayerGameLog(\n",
    "        player_id=player_id,\n",
    "        season=\"2021-22\",\n",
    "        season_type_all_star=\"Playoffs\",\n",
    "    ).get_normalized_json()\n",
    "    game_ids = get_game_ids(reg, post)\n",
    "    james_game_ids[player_id] = game_ids\n",
    "    time.sleep(0.4)\n"
   ]
  },
  {
   "cell_type": "code",
   "execution_count": 65,
   "metadata": {},
   "outputs": [
    {
     "data": {
      "text/plain": [
       "['0022101160', '0022101119', '0022101072', '0022101061', '0022101051']"
      ]
     },
     "execution_count": 65,
     "metadata": {},
     "output_type": "execute_result"
    }
   ],
   "source": [
    "lebron = 2544\n",
    "shorts = james_game_ids[lebron][0][:5]"
   ]
  },
  {
   "cell_type": "code",
   "execution_count": 70,
   "metadata": {},
   "outputs": [],
   "source": [
    "try:\n",
    "    lebron = 2544\n",
    "    season_avg = cumestatsplayer.CumeStatsPlayer(\n",
    "        player_id=lebron,\n",
    "        game_ids=james_game_ids[lebron][0][:5],g\n",
    "        season=\"2021-22\",\n",
    "        season_type_all_star=\"Regular Season\",\n",
    "    )\n",
    "except TypeError as e:\n",
    "    print(e)"
   ]
  },
  {
   "cell_type": "code",
   "execution_count": 71,
   "metadata": {},
   "outputs": [
    {
     "data": {
      "text/plain": [
       "'https://stats.nba.com/stats/cumestatsplayer?GameIDs=0022101160&GameIDs=0022101119&GameIDs=0022101072&GameIDs=0022101061&GameIDs=0022101051&LeagueID=00&PlayerID=2544&Season=2021-22&SeasonType=Regular+Season'"
      ]
     },
     "execution_count": 71,
     "metadata": {},
     "output_type": "execute_result"
    }
   ],
   "source": [
    "season_avg.get_request_url()"
   ]
  },
  {
   "cell_type": "code",
   "execution_count": 72,
   "metadata": {},
   "outputs": [
    {
     "data": {
      "text/html": [
       "<div>\n",
       "<style scoped>\n",
       "    .dataframe tbody tr th:only-of-type {\n",
       "        vertical-align: middle;\n",
       "    }\n",
       "\n",
       "    .dataframe tbody tr th {\n",
       "        vertical-align: top;\n",
       "    }\n",
       "\n",
       "    .dataframe thead th {\n",
       "        text-align: right;\n",
       "    }\n",
       "</style>\n",
       "<table border=\"1\" class=\"dataframe\">\n",
       "  <thead>\n",
       "    <tr style=\"text-align: right;\">\n",
       "      <th></th>\n",
       "      <th>DATE_EST</th>\n",
       "      <th>VISITOR_TEAM</th>\n",
       "      <th>HOME_TEAM</th>\n",
       "      <th>GP</th>\n",
       "      <th>GS</th>\n",
       "      <th>ACTUAL_MINUTES</th>\n",
       "      <th>ACTUAL_SECONDS</th>\n",
       "      <th>FG</th>\n",
       "      <th>FGA</th>\n",
       "      <th>FG_PCT</th>\n",
       "      <th>...</th>\n",
       "      <th>TOT_REB</th>\n",
       "      <th>AVG_TOT_REB</th>\n",
       "      <th>AST</th>\n",
       "      <th>PF</th>\n",
       "      <th>DQ</th>\n",
       "      <th>STL</th>\n",
       "      <th>TURNOVERS</th>\n",
       "      <th>BLK</th>\n",
       "      <th>PTS</th>\n",
       "      <th>AVG_PTS</th>\n",
       "    </tr>\n",
       "  </thead>\n",
       "  <tbody>\n",
       "    <tr>\n",
       "      <th>0</th>\n",
       "      <td>04/01/2022</td>\n",
       "      <td>Pelicans</td>\n",
       "      <td>Lakers</td>\n",
       "      <td>1</td>\n",
       "      <td>1</td>\n",
       "      <td>39</td>\n",
       "      <td>31</td>\n",
       "      <td>13</td>\n",
       "      <td>23</td>\n",
       "      <td>0.565</td>\n",
       "      <td>...</td>\n",
       "      <td>8</td>\n",
       "      <td>8.0</td>\n",
       "      <td>4</td>\n",
       "      <td>3</td>\n",
       "      <td>0</td>\n",
       "      <td>1</td>\n",
       "      <td>6</td>\n",
       "      <td>0</td>\n",
       "      <td>38</td>\n",
       "      <td>38.0</td>\n",
       "    </tr>\n",
       "  </tbody>\n",
       "</table>\n",
       "<p>1 rows × 28 columns</p>\n",
       "</div>"
      ],
      "text/plain": [
       "     DATE_EST VISITOR_TEAM HOME_TEAM  GP  GS  ACTUAL_MINUTES  ACTUAL_SECONDS  \\\n",
       "0  04/01/2022     Pelicans    Lakers   1   1              39              31   \n",
       "\n",
       "   FG  FGA  FG_PCT  ...  TOT_REB  AVG_TOT_REB  AST  PF  DQ  STL  TURNOVERS  \\\n",
       "0  13   23   0.565  ...        8          8.0    4   3   0    1          6   \n",
       "\n",
       "   BLK  PTS  AVG_PTS  \n",
       "0    0   38     38.0  \n",
       "\n",
       "[1 rows x 28 columns]"
      ]
     },
     "execution_count": 72,
     "metadata": {},
     "output_type": "execute_result"
    }
   ],
   "source": [
    "season_df = season_avg.game_by_game_stats.get_data_frame()\n",
    "season_df"
   ]
  },
  {
   "cell_type": "code",
   "execution_count": 63,
   "metadata": {},
   "outputs": [
    {
     "data": {
      "text/plain": [
       "['0022101160',\n",
       " '0022101119',\n",
       " '0022101072',\n",
       " '0022101061',\n",
       " '0022101051',\n",
       " '0022101039',\n",
       " '0022101028',\n",
       " '0022101019',\n",
       " '0022101004',\n",
       " '0022100985',\n",
       " '0022100959',\n",
       " '0022100945',\n",
       " '0022100931',\n",
       " '0022100919',\n",
       " '0022100904',\n",
       " '0022100884',\n",
       " '0022100854',\n",
       " '0022100829',\n",
       " '0022100822',\n",
       " '0022100799',\n",
       " '0022100718',\n",
       " '0022100700',\n",
       " '0022100685',\n",
       " '0022100680',\n",
       " '0022100665',\n",
       " '0022100649',\n",
       " '0022100626',\n",
       " '0022100606',\n",
       " '0022100589',\n",
       " '0022100566',\n",
       " '0022100551',\n",
       " '0022100538',\n",
       " '0022100520',\n",
       " '0022100511',\n",
       " '0022100491',\n",
       " '0022100487',\n",
       " '0022100469',\n",
       " '0022100448',\n",
       " '0022100436',\n",
       " '0022100420',\n",
       " '0022100403',\n",
       " '0022100389',\n",
       " '0022100380',\n",
       " '0022100365',\n",
       " '0022100341',\n",
       " '0022100304',\n",
       " '0022100291',\n",
       " '0022100268',\n",
       " '0022100249',\n",
       " '0022100232',\n",
       " '0022100107',\n",
       " '0022100093',\n",
       " '0022100077',\n",
       " '0022100040',\n",
       " '0022100025',\n",
       " '0022100002']"
      ]
     },
     "execution_count": 63,
     "metadata": {},
     "output_type": "execute_result"
    }
   ],
   "source": [
    "james_game_ids[lebron][0]"
   ]
  },
  {
   "cell_type": "code",
   "execution_count": null,
   "metadata": {},
   "outputs": [],
   "source": []
  }
 ],
 "metadata": {
  "kernelspec": {
   "display_name": "Python 3.9.12 ('frontend-OwGNEdDT-py3.9')",
   "language": "python",
   "name": "python3"
  },
  "language_info": {
   "codemirror_mode": {
    "name": "ipython",
    "version": 3
   },
   "file_extension": ".py",
   "mimetype": "text/x-python",
   "name": "python",
   "nbconvert_exporter": "python",
   "pygments_lexer": "ipython3",
   "version": "3.9.12"
  },
  "orig_nbformat": 4,
  "vscode": {
   "interpreter": {
    "hash": "3c97833391ee0d290c5acc930a802aa4b4acc23039eeda5257e74f51c1362a94"
   }
  }
 },
 "nbformat": 4,
 "nbformat_minor": 2
}
