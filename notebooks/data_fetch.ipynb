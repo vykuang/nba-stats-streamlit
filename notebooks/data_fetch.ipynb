{
 "cells": [
  {
   "cell_type": "markdown",
   "metadata": {},
   "source": [
    "# Fetching and Preparing Data from stats.nba.com "
   ]
  },
  {
   "cell_type": "code",
   "execution_count": 1,
   "metadata": {},
   "outputs": [],
   "source": [
    "from nba_api.stats.static import players\n",
    "from nba_api.stats.endpoints import playercareerstats"
   ]
  },
  {
   "cell_type": "code",
   "execution_count": 2,
   "metadata": {},
   "outputs": [
    {
     "name": "stdout",
     "output_type": "stream",
     "text": [
      "type: <class 'list'>\tlength: 587\n"
     ]
    }
   ],
   "source": [
    "active_2021_22 = players.get_active_players()\n",
    "print(f\"type: {type(active_2021_22)}\\tlength: {len(active_2021_22)}\")"
   ]
  },
  {
   "cell_type": "code",
   "execution_count": 3,
   "metadata": {},
   "outputs": [],
   "source": [
    "def get_career_stats(player_id: str, get_request: bool = True) -> dict:\n",
    "    career_stats = playercareerstats.PlayerCareerStats(\n",
    "        player_id=player_id,\n",
    "        per_mode36=\"Per36\",\n",
    "        get_request=get_request,\n",
    "    )\n",
    "    return career_stats.get_normalized_json()"
   ]
  },
  {
   "cell_type": "code",
   "execution_count": 4,
   "metadata": {},
   "outputs": [
    {
     "name": "stdout",
     "output_type": "stream",
     "text": [
      "type: <class 'dict'>\tlength: 12\n"
     ]
    }
   ],
   "source": [
    "import json\n",
    "\n",
    "# achiuwa\n",
    "player = active_2021_22[0][\"id\"]\n",
    "career = json.loads(get_career_stats(player))\n",
    "print(f\"type: {type(career)}\\tlength: {len(career)}\")"
   ]
  },
  {
   "cell_type": "code",
   "execution_count": 6,
   "metadata": {},
   "outputs": [
    {
     "name": "stdout",
     "output_type": "stream",
     "text": [
      "Steven Adams\n",
      "type: <class 'dict'>\tlength: 12\tkeys: dict_keys(['SeasonTotalsRegularSeason', 'CareerTotalsRegularSeason', 'SeasonTotalsPostSeason', 'CareerTotalsPostSeason', 'SeasonTotalsAllStarSeason', 'CareerTotalsAllStarSeason', 'SeasonTotalsCollegeSeason', 'CareerTotalsCollegeSeason', 'SeasonTotalsShowcaseSeason', 'CareerTotalsShowcaseSeason', 'SeasonRankingsRegularSeason', 'SeasonRankingsPostSeason'])\n"
     ]
    }
   ],
   "source": [
    "# steven adams\n",
    "player1 = active_2021_22[1]\n",
    "print(player1[\"full_name\"])\n",
    "career1 = json.loads(get_career_stats(player1[\"id\"]))\n",
    "\n",
    "print(f\"type: {type(career1)}\\tlength: {len(career1)}\\tkeys: {career1.keys()}\")"
   ]
  },
  {
   "cell_type": "markdown",
   "metadata": {},
   "source": [
    "Globbing the career stats to a single file for pickling/"
   ]
  },
  {
   "cell_type": "code",
   "execution_count": 8,
   "metadata": {},
   "outputs": [
    {
     "name": "stdout",
     "output_type": "stream",
     "text": [
      "type: <class 'dict'>\tlen: 2\tkeys: dict_keys([1630173, 203500]))\n"
     ]
    }
   ],
   "source": [
    "import pickle\n",
    "from pathlib import Path\n",
    "\n",
    "data_dir = Path(\"/home/klang/project-weekly/frontend/data/\")\n",
    "fname = \"bar.pkl\"\n",
    "archive = {}\n",
    "careers = [career, career1]\n",
    "archive = {\n",
    "    dataset[\"SeasonTotalsRegularSeason\"][0][\"PLAYER_ID\"]: dataset for dataset in careers\n",
    "}\n",
    "with open(data_dir / fname, \"wb\") as f_out:\n",
    "    pickle.dump(archive, f_out)\n",
    "\n",
    "with open(data_dir / fname, \"rb\") as f_in:\n",
    "    arch_read = pickle.load(f_in)\n",
    "\n",
    "print(f\"type: {type(arch_read)}\\tlen: {len(arch_read)}\\tkeys: {arch_read.keys()})\")"
   ]
  },
  {
   "cell_type": "code",
   "execution_count": 21,
   "metadata": {},
   "outputs": [],
   "source": [
    "def get_jsons(career):\n",
    "    # extract the summary for the latest season\n",
    "    post_dict = [\n",
    "        season\n",
    "        for season in career[\"SeasonTotalsPostSeason\"]\n",
    "        if season[\"SEASON_ID\"] == \"2021-22\"\n",
    "    ][0]\n",
    "    reg_dict = [\n",
    "        season\n",
    "        for season in career[\"SeasonTotalsRegularSeason\"]\n",
    "        if season[\"SEASON_ID\"] == \"2021-22\"\n",
    "    ][0]\n",
    "    return (reg_dict, post_dict)"
   ]
  },
  {
   "cell_type": "code",
   "execution_count": 22,
   "metadata": {},
   "outputs": [],
   "source": [
    "reg_dict, post_dict = get_jsons(arch_read[1630173])"
   ]
  },
  {
   "cell_type": "code",
   "execution_count": 23,
   "metadata": {},
   "outputs": [
    {
     "data": {
      "text/plain": [
       "{'PLAYER_ID': 1630173,\n",
       " 'SEASON_ID': '2021-22',\n",
       " 'LEAGUE_ID': '00',\n",
       " 'TEAM_ID': 1610612761,\n",
       " 'TEAM_ABBREVIATION': 'TOR',\n",
       " 'PLAYER_AGE': 22.0,\n",
       " 'GP': 6,\n",
       " 'GS': 1,\n",
       " 'MIN': 167.0,\n",
       " 'FGM': 5.4,\n",
       " 'FGA': 11.2,\n",
       " 'FG_PCT': 0.481,\n",
       " 'FG3M': 1.1,\n",
       " 'FG3A': 3.5,\n",
       " 'FG3_PCT': 0.313,\n",
       " 'FTM': 1.3,\n",
       " 'FTA': 2.2,\n",
       " 'FT_PCT': 0.6,\n",
       " 'OREB': 1.7,\n",
       " 'DREB': 4.5,\n",
       " 'REB': 6.3,\n",
       " 'AST': 1.3,\n",
       " 'STL': 0.2,\n",
       " 'BLK': 1.1,\n",
       " 'TOV': 1.9,\n",
       " 'PF': 3.0,\n",
       " 'PTS': 13.2}"
      ]
     },
     "execution_count": 23,
     "metadata": {},
     "output_type": "execute_result"
    }
   ],
   "source": [
    "post_dict"
   ]
  },
  {
   "cell_type": "code",
   "execution_count": 17,
   "metadata": {},
   "outputs": [
    {
     "name": "stdout",
     "output_type": "stream",
     "text": [
      "1630173\n",
      "203500\n"
     ]
    }
   ],
   "source": [
    "for stats in arch_read:\n",
    "    print(stats)\n",
    "    reg, post = get_jsons(arch_read[stats])"
   ]
  },
  {
   "cell_type": "markdown",
   "metadata": {},
   "source": [
    "Proportionally fold in the post season games into the regular season stats, but increase the weights of the post season? Adds an arbitrary coefficient though."
   ]
  },
  {
   "cell_type": "code",
   "execution_count": 18,
   "metadata": {},
   "outputs": [],
   "source": [
    "meta_cols = [\n",
    "    \"PLAYER_ID\",\n",
    "    \"SEASON_ID\",\n",
    "    \"LEAGUE_ID\",\n",
    "    \"TEAM_ID\",\n",
    "    \"TEAM_ABBREVIATION\",\n",
    "    \"PLAYER_AGE\",\n",
    "]\n",
    "stat_cols = [\n",
    "    \"FGM\",\n",
    "    \"FGA\",\n",
    "    \"FG_PCT\",\n",
    "    \"FG3M\",\n",
    "    \"FG3A\",\n",
    "    \"FG3_PCT\",\n",
    "    \"FTM\",\n",
    "    \"FTA\",\n",
    "    \"FT_PCT\",\n",
    "    \"OREB\",\n",
    "    \"DREB\",\n",
    "    \"REB\",\n",
    "    \"AST\",\n",
    "    \"STL\",\n",
    "    \"BLK\",\n",
    "    \"TOV\",\n",
    "    \"PF\",\n",
    "    \"PTS\",\n",
    "]\n",
    "\n",
    "\n",
    "def fold_post_stats(\n",
    "    reg_season: dict, post_season: dict, merge_stats: list, post_wt: float = 2.0\n",
    ") -> dict:\n",
    "    \"\"\"Merge stats proportionally via games played\"\"\"\n",
    "    merged = {}\n",
    "    gp_tot = reg_season[\"GP\"] + post_wt * post_season[\"GP\"]\n",
    "    for stat in merge_stats:\n",
    "        merged[stat] = (\n",
    "            reg_season[\"GP\"] / gp_tot * reg_season[stat]\n",
    "            + post_wt * post_season[\"GP\"] / gp_tot * post_season[stat]\n",
    "        )\n",
    "\n",
    "    merged[\"PLAYER_ID\"] = reg_season[\"PLAYER_ID\"]\n",
    "    return merged"
   ]
  },
  {
   "cell_type": "code",
   "execution_count": 19,
   "metadata": {},
   "outputs": [
    {
     "data": {
      "text/plain": [
       "{'FGM': 3.6444444444444444,\n",
       " 'FGA': 6.8533333333333335,\n",
       " 'FG_PCT': 0.5286444444444445,\n",
       " 'FG3M': 0.0,\n",
       " 'FG3A': 0.0,\n",
       " 'FG3_PCT': 0.0,\n",
       " 'FTM': 1.9,\n",
       " 'FTA': 3.5844444444444443,\n",
       " 'FT_PCT': 0.5433111111111111,\n",
       " 'OREB': 6.05111111111111,\n",
       " 'DREB': 7.7266666666666675,\n",
       " 'REB': 13.777777777777779,\n",
       " 'AST': 4.615555555555555,\n",
       " 'STL': 1.0599999999999998,\n",
       " 'BLK': 0.9755555555555556,\n",
       " 'TOV': 1.9755555555555557,\n",
       " 'PF': 2.9555555555555553,\n",
       " 'PTS': 9.204444444444444,\n",
       " 'PLAYER_ID': 203500}"
      ]
     },
     "execution_count": 19,
     "metadata": {},
     "output_type": "execute_result"
    }
   ],
   "source": [
    "merged = fold_post_stats(reg_season=reg, post_season=post, merge_stats=stat_cols)\n",
    "merged"
   ]
  },
  {
   "cell_type": "code",
   "execution_count": 20,
   "metadata": {},
   "outputs": [
    {
     "data": {
      "text/html": [
       "<div>\n",
       "<style scoped>\n",
       "    .dataframe tbody tr th:only-of-type {\n",
       "        vertical-align: middle;\n",
       "    }\n",
       "\n",
       "    .dataframe tbody tr th {\n",
       "        vertical-align: top;\n",
       "    }\n",
       "\n",
       "    .dataframe thead th {\n",
       "        text-align: right;\n",
       "    }\n",
       "</style>\n",
       "<table border=\"1\" class=\"dataframe\">\n",
       "  <thead>\n",
       "    <tr style=\"text-align: right;\">\n",
       "      <th></th>\n",
       "      <th>GP</th>\n",
       "      <th>FGM</th>\n",
       "      <th>FGA</th>\n",
       "    </tr>\n",
       "    <tr>\n",
       "      <th>PLAYER_ID</th>\n",
       "      <th></th>\n",
       "      <th></th>\n",
       "      <th></th>\n",
       "    </tr>\n",
       "  </thead>\n",
       "  <tbody>\n",
       "    <tr>\n",
       "      <th>123</th>\n",
       "      <td>30</td>\n",
       "      <td>1</td>\n",
       "      <td>10</td>\n",
       "    </tr>\n",
       "    <tr>\n",
       "      <th>121</th>\n",
       "      <td>10</td>\n",
       "      <td>9</td>\n",
       "      <td>10</td>\n",
       "    </tr>\n",
       "  </tbody>\n",
       "</table>\n",
       "</div>"
      ],
      "text/plain": [
       "           GP  FGM  FGA\n",
       "PLAYER_ID              \n",
       "123        30    1   10\n",
       "121        10    9   10"
      ]
     },
     "execution_count": 20,
     "metadata": {},
     "output_type": "execute_result"
    }
   ],
   "source": [
    "reg_season = {\"PLAYER_ID\": 123, \"GP\": 30, \"FGM\": 1, \"FGA\": 10}\n",
    "post_season = {\"PLAYER_ID\": 121, \"GP\": 10, \"FGM\": 9, \"FGA\": 10}\n",
    "rows = []\n",
    "rows.append(reg_season)\n",
    "rows.append(post_season)\n",
    "\n",
    "import pandas as pd\n",
    "\n",
    "df = pd.DataFrame.from_dict(rows, orient=\"columns\").set_index(\"PLAYER_ID\")\n",
    "df.head()"
   ]
  },
  {
   "cell_type": "code",
   "execution_count": null,
   "metadata": {},
   "outputs": [],
   "source": []
  }
 ],
 "metadata": {
  "kernelspec": {
   "display_name": "Python 3.9.12 ('frontend-9-xT9J9k-py3.9')",
   "language": "python",
   "name": "python3"
  },
  "language_info": {
   "codemirror_mode": {
    "name": "ipython",
    "version": 3
   },
   "file_extension": ".py",
   "mimetype": "text/x-python",
   "name": "python",
   "nbconvert_exporter": "python",
   "pygments_lexer": "ipython3",
   "version": "3.9.12"
  },
  "orig_nbformat": 4,
  "vscode": {
   "interpreter": {
    "hash": "5fbb15bead15f29113b00e120251f6c3423629f9a9a13eee1cf97805456bce3f"
   }
  }
 },
 "nbformat": 4,
 "nbformat_minor": 2
}
